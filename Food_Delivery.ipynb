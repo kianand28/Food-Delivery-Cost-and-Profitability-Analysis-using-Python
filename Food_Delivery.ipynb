{
  "nbformat": 4,
  "nbformat_minor": 0,
  "metadata": {
    "colab": {
      "provenance": []
    },
    "kernelspec": {
      "name": "python3",
      "display_name": "Python 3"
    },
    "language_info": {
      "name": "python"
    }
  },
  "cells": [
    {
      "cell_type": "markdown",
      "source": [
        "# **Food Delivery Cost and Profitability Analysis using Python**"
      ],
      "metadata": {
        "id": "OBh5GOx68evN"
      }
    },
    {
      "cell_type": "markdown",
      "source": [
        "Examining all of the costs related to delivering food orders—from direct costs like delivery fees and packaging to indirect costs like customer discounts and restaurant commission fees—is part of the food delivery cost and profitability analysis process. The research attempts to shed light on how profitable the meal delivery service is per order by contrasting these expenses with the income (which is mostly from order values and commission fees).  \n",
        "\n",
        "The steps for doing the Food Delivery Cost and Profitability Analysis task is as follows:  \n",
        "1. Collecting comprehensive data related to aspects of food delivery operations.\n",
        "2. Cleaning the dataset for inconsistencies, missing values, or irrelevant information.\n",
        "3. Extracting relevant features keeping cost and profitability in notice.\n",
        "4. Breaking down the costs associated with each order, including fixed costs (like packaging) and variable costs (like delivery fees and discounts).\n",
        "5. Determining the revenue generated from each order, focusing on commission fees and the order value before discounts.\n",
        "6. For each order, calculate the profit by subtracting the total costs from the revenue. Analyze the distribution of profitability across all orders to identify trends.\n",
        "7. Based on the cost and profitability analysis, develop strategic recommendations aimed at enhancing profitability.\n",
        "8. Using the simulated data for the financial impact of proposed changes, such as adjusting discount or commission rates.\n",
        "\n",
        "\n",
        "Dataset used - https://www.kaggle.com/datasets/romanniki/food-delivery-cost-and-profitability/data"
      ],
      "metadata": {
        "id": "LyJneMeU83s3"
      }
    },
    {
      "cell_type": "markdown",
      "source": [
        "Importing the necessary Python libraries and the dataset"
      ],
      "metadata": {
        "id": "4f3IliRa_thj"
      }
    },
    {
      "cell_type": "code",
      "execution_count": 23,
      "metadata": {
        "id": "P_k2DXkdi2XS"
      },
      "outputs": [],
      "source": [
        "import pandas as pd\n",
        "import matplotlib.pyplot as plt"
      ]
    },
    {
      "cell_type": "code",
      "source": [
        "food_orders = pd.read_csv(\"food_orders.csv\")\n",
        "print(food_orders.head())"
      ],
      "metadata": {
        "colab": {
          "base_uri": "https://localhost:8080/"
        },
        "id": "J8KXuAtckHCt",
        "outputId": "0f901c37-b930-45c3-cc52-d9470dae893f"
      },
      "execution_count": 24,
      "outputs": [
        {
          "output_type": "stream",
          "name": "stdout",
          "text": [
            "   Order ID Customer ID Restaurant ID  Order Date and Time  \\\n",
            "0         1       C8270         R2924  2024-02-01 01:11:52   \n",
            "1         2       C1860         R2054  2024-02-02 22:11:04   \n",
            "2         3       C6390         R2870  2024-01-31 05:54:35   \n",
            "3         4       C6191         R2642  2024-01-16 22:52:49   \n",
            "4         5       C6734         R2799  2024-01-29 01:19:30   \n",
            "\n",
            "  Delivery Date and Time  Order Value  Delivery Fee    Payment Method  \\\n",
            "0    2024-02-01 02:39:52         1914             0       Credit Card   \n",
            "1    2024-02-02 22:46:04          986            40    Digital Wallet   \n",
            "2    2024-01-31 06:52:35          937            30  Cash on Delivery   \n",
            "3    2024-01-16 23:38:49         1463            50  Cash on Delivery   \n",
            "4    2024-01-29 02:48:30         1992            30  Cash on Delivery   \n",
            "\n",
            "  Discounts and Offers  Commission Fee  Payment Processing Fee  \\\n",
            "0            5% on App             150                      47   \n",
            "1                  10%             198                      23   \n",
            "2         15% New User             195                      45   \n",
            "3                  NaN             146                      27   \n",
            "4         50 off Promo             130                      50   \n",
            "\n",
            "   Refunds/Chargebacks  \n",
            "0                    0  \n",
            "1                    0  \n",
            "2                    0  \n",
            "3                    0  \n",
            "4                    0  \n"
          ]
        }
      ]
    },
    {
      "cell_type": "code",
      "source": [
        "food_orders.info()"
      ],
      "metadata": {
        "colab": {
          "base_uri": "https://localhost:8080/"
        },
        "id": "UJyP8YG_kITS",
        "outputId": "78915eea-5786-466c-d65f-ea474e5e5866"
      },
      "execution_count": 25,
      "outputs": [
        {
          "output_type": "stream",
          "name": "stdout",
          "text": [
            "<class 'pandas.core.frame.DataFrame'>\n",
            "RangeIndex: 1000 entries, 0 to 999\n",
            "Data columns (total 12 columns):\n",
            " #   Column                  Non-Null Count  Dtype \n",
            "---  ------                  --------------  ----- \n",
            " 0   Order ID                1000 non-null   int64 \n",
            " 1   Customer ID             1000 non-null   object\n",
            " 2   Restaurant ID           1000 non-null   object\n",
            " 3   Order Date and Time     1000 non-null   object\n",
            " 4   Delivery Date and Time  1000 non-null   object\n",
            " 5   Order Value             1000 non-null   int64 \n",
            " 6   Delivery Fee            1000 non-null   int64 \n",
            " 7   Payment Method          1000 non-null   object\n",
            " 8   Discounts and Offers    815 non-null    object\n",
            " 9   Commission Fee          1000 non-null   int64 \n",
            " 10  Payment Processing Fee  1000 non-null   int64 \n",
            " 11  Refunds/Chargebacks     1000 non-null   int64 \n",
            "dtypes: int64(6), object(6)\n",
            "memory usage: 93.9+ KB\n"
          ]
        }
      ]
    },
    {
      "cell_type": "markdown",
      "source": [
        "12 columns and 1000 entries make up the dataset.\n",
        "None of the columns have any missing values. We now have some data preparation and cleansing to do. The required cleaning actions are listed below:  \n",
        "1. Create datetime formats for the \"Order Date and Time\" and \"Delivery Date and Time.\"\n",
        "2. Convert \"Discounts and Offers\" to a consistent numerical value or figure out the discount percentages.\n",
        "3. Make sure that every financial figure is in a format that can be used for calculations."
      ],
      "metadata": {
        "id": "mceYAvMW_8X-"
      }
    },
    {
      "cell_type": "code",
      "source": [
        "food_orders.isnull().sum()"
      ],
      "metadata": {
        "colab": {
          "base_uri": "https://localhost:8080/"
        },
        "id": "VwYfQAH-kjkf",
        "outputId": "529c7566-d717-4993-aa8c-d57d195427ec"
      },
      "execution_count": 26,
      "outputs": [
        {
          "output_type": "execute_result",
          "data": {
            "text/plain": [
              "Order ID                    0\n",
              "Customer ID                 0\n",
              "Restaurant ID               0\n",
              "Order Date and Time         0\n",
              "Delivery Date and Time      0\n",
              "Order Value                 0\n",
              "Delivery Fee                0\n",
              "Payment Method              0\n",
              "Discounts and Offers      185\n",
              "Commission Fee              0\n",
              "Payment Processing Fee      0\n",
              "Refunds/Chargebacks         0\n",
              "dtype: int64"
            ]
          },
          "metadata": {},
          "execution_count": 26
        }
      ]
    },
    {
      "cell_type": "code",
      "source": [
        "food_orders[\"Discounts and Offers\"].unique()"
      ],
      "metadata": {
        "colab": {
          "base_uri": "https://localhost:8080/"
        },
        "id": "pga8ylrMlI_6",
        "outputId": "d53ea8ed-91e1-4174-8db7-76c9e78a10cb"
      },
      "execution_count": 27,
      "outputs": [
        {
          "output_type": "execute_result",
          "data": {
            "text/plain": [
              "array(['5% on App', '10%', '15% New User', nan, '50 off Promo'],\n",
              "      dtype=object)"
            ]
          },
          "metadata": {},
          "execution_count": 27
        }
      ]
    },
    {
      "cell_type": "code",
      "source": [
        "food_orders.drop_duplicates(inplace=True)\n",
        "food_orders.fillna(method='ffill', inplace=True)  # Adjust as needed"
      ],
      "metadata": {
        "id": "OrzOHRDjmHF4"
      },
      "execution_count": 28,
      "outputs": []
    },
    {
      "cell_type": "code",
      "source": [
        "food_orders.isnull().sum()"
      ],
      "metadata": {
        "colab": {
          "base_uri": "https://localhost:8080/"
        },
        "id": "58zIFtOYlRT8",
        "outputId": "7a0096f1-1452-4267-9bbb-aeafb24823f9"
      },
      "execution_count": 29,
      "outputs": [
        {
          "output_type": "execute_result",
          "data": {
            "text/plain": [
              "Order ID                  0\n",
              "Customer ID               0\n",
              "Restaurant ID             0\n",
              "Order Date and Time       0\n",
              "Delivery Date and Time    0\n",
              "Order Value               0\n",
              "Delivery Fee              0\n",
              "Payment Method            0\n",
              "Discounts and Offers      0\n",
              "Commission Fee            0\n",
              "Payment Processing Fee    0\n",
              "Refunds/Chargebacks       0\n",
              "dtype: int64"
            ]
          },
          "metadata": {},
          "execution_count": 29
        }
      ]
    },
    {
      "cell_type": "code",
      "source": [
        "from datetime import datetime\n",
        "\n",
        "# convert date and time columns to datetime\n",
        "food_orders['Order Date and Time'] = pd.to_datetime(food_orders['Order Date and Time'])\n",
        "food_orders['Delivery Date and Time'] = pd.to_datetime(food_orders['Delivery Date and Time'])\n",
        "\n",
        "print(food_orders.head(), food_orders.dtypes)"
      ],
      "metadata": {
        "colab": {
          "base_uri": "https://localhost:8080/"
        },
        "id": "BHGrN1Oik_cr",
        "outputId": "d768dd10-aa9c-4a3e-f220-00bac1f31e52"
      },
      "execution_count": 30,
      "outputs": [
        {
          "output_type": "stream",
          "name": "stdout",
          "text": [
            "   Order ID Customer ID Restaurant ID Order Date and Time  \\\n",
            "0         1       C8270         R2924 2024-02-01 01:11:52   \n",
            "1         2       C1860         R2054 2024-02-02 22:11:04   \n",
            "2         3       C6390         R2870 2024-01-31 05:54:35   \n",
            "3         4       C6191         R2642 2024-01-16 22:52:49   \n",
            "4         5       C6734         R2799 2024-01-29 01:19:30   \n",
            "\n",
            "  Delivery Date and Time  Order Value  Delivery Fee    Payment Method  \\\n",
            "0    2024-02-01 02:39:52         1914             0       Credit Card   \n",
            "1    2024-02-02 22:46:04          986            40    Digital Wallet   \n",
            "2    2024-01-31 06:52:35          937            30  Cash on Delivery   \n",
            "3    2024-01-16 23:38:49         1463            50  Cash on Delivery   \n",
            "4    2024-01-29 02:48:30         1992            30  Cash on Delivery   \n",
            "\n",
            "  Discounts and Offers  Commission Fee  Payment Processing Fee  \\\n",
            "0            5% on App             150                      47   \n",
            "1                  10%             198                      23   \n",
            "2         15% New User             195                      45   \n",
            "3         15% New User             146                      27   \n",
            "4         50 off Promo             130                      50   \n",
            "\n",
            "   Refunds/Chargebacks  \n",
            "0                    0  \n",
            "1                    0  \n",
            "2                    0  \n",
            "3                    0  \n",
            "4                    0   Order ID                           int64\n",
            "Customer ID                       object\n",
            "Restaurant ID                     object\n",
            "Order Date and Time       datetime64[ns]\n",
            "Delivery Date and Time    datetime64[ns]\n",
            "Order Value                        int64\n",
            "Delivery Fee                       int64\n",
            "Payment Method                    object\n",
            "Discounts and Offers              object\n",
            "Commission Fee                     int64\n",
            "Payment Processing Fee             int64\n",
            "Refunds/Chargebacks                int64\n",
            "dtype: object\n"
          ]
        }
      ]
    },
    {
      "cell_type": "code",
      "source": [
        "# function to extract numeric values from 'Discounts and Offers' string\n",
        "def extract_discount(discount_str):\n",
        "    if 'off' in discount_str:\n",
        "        return float(discount_str.split(' ')[0]) # Fixed amount off\n",
        "    elif '%' in discount_str:\n",
        "        return float(discount_str.split('%')[0]) # Percentage off\n",
        "    else:\n",
        "        return 0.0     # No discount\n",
        "\n",
        "# applying the function to create a new 'Discount Value' column\n",
        "food_orders['Discount Percentage'] = food_orders['Discounts and Offers'].apply(lambda x: extract_discount(x))\n",
        "\n",
        "# for percentage discounts, calculating the discount amount based on the order value\n",
        "food_orders['Discount Amount'] = food_orders.apply(lambda x: (x['Order Value'] * x['Discount Percentage'] / 100)\n",
        "                                                   if x['Discount Percentage'] > 1\n",
        "                                                   else x['Discount Percentage'], axis=1)\n",
        "\n",
        "# adjust 'Discount Amount' for fixed discounts directly specified in the 'Discounts and Offers' column\n",
        "food_orders['Discount Amount'] = food_orders.apply(lambda x: x['Discount Amount'] if x['Discount Percentage'] <= 1\n",
        "                                                   else x['Order Value'] * x['Discount Percentage'] / 100, axis=1)\n",
        "\n",
        "print(food_orders[['Order Value', 'Discounts and Offers', 'Discount Percentage', 'Discount Amount']].head(), food_orders.dtypes)"
      ],
      "metadata": {
        "colab": {
          "base_uri": "https://localhost:8080/"
        },
        "id": "XVS4RVGenjea",
        "outputId": "1d30ee98-cf86-408a-b616-49915b70e5ca"
      },
      "execution_count": 31,
      "outputs": [
        {
          "output_type": "stream",
          "name": "stdout",
          "text": [
            "   Order Value Discounts and Offers  Discount Percentage  Discount Amount\n",
            "0         1914            5% on App                  5.0            95.70\n",
            "1          986                  10%                 10.0            98.60\n",
            "2          937         15% New User                 15.0           140.55\n",
            "3         1463         15% New User                 15.0           219.45\n",
            "4         1992         50 off Promo                 50.0           996.00 Order ID                           int64\n",
            "Customer ID                       object\n",
            "Restaurant ID                     object\n",
            "Order Date and Time       datetime64[ns]\n",
            "Delivery Date and Time    datetime64[ns]\n",
            "Order Value                        int64\n",
            "Delivery Fee                       int64\n",
            "Payment Method                    object\n",
            "Discounts and Offers              object\n",
            "Commission Fee                     int64\n",
            "Payment Processing Fee             int64\n",
            "Refunds/Chargebacks                int64\n",
            "Discount Percentage              float64\n",
            "Discount Amount                  float64\n",
            "dtype: object\n"
          ]
        }
      ]
    },
    {
      "cell_type": "markdown",
      "source": [
        "Following are the changes made above on the dataset -\n",
        "1. Order Date and Time and Delivery Date and Time columns have been converted to datetime format.\n",
        "2. A new column, Discount Amount, has been calculated based on the Discounts and Offers column. This was achieved by extracting percentage discounts or fixed amounts and applying them to the order value.\n",
        "3. Discount Percentage has been added to represent the discount rate or fixed amount discount directly."
      ],
      "metadata": {
        "id": "Urv_AI3wAsh9"
      }
    },
    {
      "cell_type": "code",
      "source": [
        "food_orders.describe()"
      ],
      "metadata": {
        "colab": {
          "base_uri": "https://localhost:8080/",
          "height": 459
        },
        "id": "1zosuOYEpzCE",
        "outputId": "8f9907ea-11c2-41a6-e05b-e322e4b7ec25"
      },
      "execution_count": 32,
      "outputs": [
        {
          "output_type": "execute_result",
          "data": {
            "text/plain": [
              "          Order ID            Order Date and Time  \\\n",
              "count  1000.000000                           1000   \n",
              "mean    500.500000     2024-01-20 11:03:07.648000   \n",
              "min       1.000000            2024-01-01 02:12:47   \n",
              "25%     250.750000  2024-01-11 18:45:27.249999872   \n",
              "50%     500.500000            2024-01-20 11:38:43   \n",
              "75%     750.250000  2024-01-30 03:47:34.249999872   \n",
              "max    1000.000000            2024-02-07 23:56:12   \n",
              "std     288.819436                            NaN   \n",
              "\n",
              "              Delivery Date and Time  Order Value  Delivery Fee  \\\n",
              "count                           1000  1000.000000   1000.000000   \n",
              "mean   2024-01-20 12:16:42.148000256  1053.969000     28.620000   \n",
              "min              2024-01-01 03:59:47   104.000000      0.000000   \n",
              "25%    2024-01-11 19:54:57.249999872   597.750000     20.000000   \n",
              "50%              2024-01-20 13:02:23  1038.500000     30.000000   \n",
              "75%    2024-01-30 05:09:34.249999872  1494.000000     40.000000   \n",
              "max              2024-02-08 01:45:12  1995.000000     50.000000   \n",
              "std                              NaN   530.975339     16.958278   \n",
              "\n",
              "       Commission Fee  Payment Processing Fee  Refunds/Chargebacks  \\\n",
              "count      1000.00000             1000.000000          1000.000000   \n",
              "mean        126.99000               29.832000            28.300000   \n",
              "min          50.00000               10.000000             0.000000   \n",
              "25%          90.00000               20.000000             0.000000   \n",
              "50%         127.00000               30.000000             0.000000   \n",
              "75%         164.00000               40.000000            50.000000   \n",
              "max         200.00000               50.000000           150.000000   \n",
              "std          43.06405               11.627165            49.614228   \n",
              "\n",
              "       Discount Percentage  Discount Amount  \n",
              "count          1000.000000       1000.00000  \n",
              "mean             19.760000        210.26735  \n",
              "min               5.000000          5.60000  \n",
              "25%              10.000000         59.73750  \n",
              "50%              10.000000        118.25000  \n",
              "75%              15.000000        234.30000  \n",
              "max              50.000000        996.00000  \n",
              "std              17.432622        234.26271  "
            ],
            "text/html": [
              "\n",
              "  <div id=\"df-69293610-60c2-42ab-abb6-1129c9eb657c\" class=\"colab-df-container\">\n",
              "    <div>\n",
              "<style scoped>\n",
              "    .dataframe tbody tr th:only-of-type {\n",
              "        vertical-align: middle;\n",
              "    }\n",
              "\n",
              "    .dataframe tbody tr th {\n",
              "        vertical-align: top;\n",
              "    }\n",
              "\n",
              "    .dataframe thead th {\n",
              "        text-align: right;\n",
              "    }\n",
              "</style>\n",
              "<table border=\"1\" class=\"dataframe\">\n",
              "  <thead>\n",
              "    <tr style=\"text-align: right;\">\n",
              "      <th></th>\n",
              "      <th>Order ID</th>\n",
              "      <th>Order Date and Time</th>\n",
              "      <th>Delivery Date and Time</th>\n",
              "      <th>Order Value</th>\n",
              "      <th>Delivery Fee</th>\n",
              "      <th>Commission Fee</th>\n",
              "      <th>Payment Processing Fee</th>\n",
              "      <th>Refunds/Chargebacks</th>\n",
              "      <th>Discount Percentage</th>\n",
              "      <th>Discount Amount</th>\n",
              "    </tr>\n",
              "  </thead>\n",
              "  <tbody>\n",
              "    <tr>\n",
              "      <th>count</th>\n",
              "      <td>1000.000000</td>\n",
              "      <td>1000</td>\n",
              "      <td>1000</td>\n",
              "      <td>1000.000000</td>\n",
              "      <td>1000.000000</td>\n",
              "      <td>1000.00000</td>\n",
              "      <td>1000.000000</td>\n",
              "      <td>1000.000000</td>\n",
              "      <td>1000.000000</td>\n",
              "      <td>1000.00000</td>\n",
              "    </tr>\n",
              "    <tr>\n",
              "      <th>mean</th>\n",
              "      <td>500.500000</td>\n",
              "      <td>2024-01-20 11:03:07.648000</td>\n",
              "      <td>2024-01-20 12:16:42.148000256</td>\n",
              "      <td>1053.969000</td>\n",
              "      <td>28.620000</td>\n",
              "      <td>126.99000</td>\n",
              "      <td>29.832000</td>\n",
              "      <td>28.300000</td>\n",
              "      <td>19.760000</td>\n",
              "      <td>210.26735</td>\n",
              "    </tr>\n",
              "    <tr>\n",
              "      <th>min</th>\n",
              "      <td>1.000000</td>\n",
              "      <td>2024-01-01 02:12:47</td>\n",
              "      <td>2024-01-01 03:59:47</td>\n",
              "      <td>104.000000</td>\n",
              "      <td>0.000000</td>\n",
              "      <td>50.00000</td>\n",
              "      <td>10.000000</td>\n",
              "      <td>0.000000</td>\n",
              "      <td>5.000000</td>\n",
              "      <td>5.60000</td>\n",
              "    </tr>\n",
              "    <tr>\n",
              "      <th>25%</th>\n",
              "      <td>250.750000</td>\n",
              "      <td>2024-01-11 18:45:27.249999872</td>\n",
              "      <td>2024-01-11 19:54:57.249999872</td>\n",
              "      <td>597.750000</td>\n",
              "      <td>20.000000</td>\n",
              "      <td>90.00000</td>\n",
              "      <td>20.000000</td>\n",
              "      <td>0.000000</td>\n",
              "      <td>10.000000</td>\n",
              "      <td>59.73750</td>\n",
              "    </tr>\n",
              "    <tr>\n",
              "      <th>50%</th>\n",
              "      <td>500.500000</td>\n",
              "      <td>2024-01-20 11:38:43</td>\n",
              "      <td>2024-01-20 13:02:23</td>\n",
              "      <td>1038.500000</td>\n",
              "      <td>30.000000</td>\n",
              "      <td>127.00000</td>\n",
              "      <td>30.000000</td>\n",
              "      <td>0.000000</td>\n",
              "      <td>10.000000</td>\n",
              "      <td>118.25000</td>\n",
              "    </tr>\n",
              "    <tr>\n",
              "      <th>75%</th>\n",
              "      <td>750.250000</td>\n",
              "      <td>2024-01-30 03:47:34.249999872</td>\n",
              "      <td>2024-01-30 05:09:34.249999872</td>\n",
              "      <td>1494.000000</td>\n",
              "      <td>40.000000</td>\n",
              "      <td>164.00000</td>\n",
              "      <td>40.000000</td>\n",
              "      <td>50.000000</td>\n",
              "      <td>15.000000</td>\n",
              "      <td>234.30000</td>\n",
              "    </tr>\n",
              "    <tr>\n",
              "      <th>max</th>\n",
              "      <td>1000.000000</td>\n",
              "      <td>2024-02-07 23:56:12</td>\n",
              "      <td>2024-02-08 01:45:12</td>\n",
              "      <td>1995.000000</td>\n",
              "      <td>50.000000</td>\n",
              "      <td>200.00000</td>\n",
              "      <td>50.000000</td>\n",
              "      <td>150.000000</td>\n",
              "      <td>50.000000</td>\n",
              "      <td>996.00000</td>\n",
              "    </tr>\n",
              "    <tr>\n",
              "      <th>std</th>\n",
              "      <td>288.819436</td>\n",
              "      <td>NaN</td>\n",
              "      <td>NaN</td>\n",
              "      <td>530.975339</td>\n",
              "      <td>16.958278</td>\n",
              "      <td>43.06405</td>\n",
              "      <td>11.627165</td>\n",
              "      <td>49.614228</td>\n",
              "      <td>17.432622</td>\n",
              "      <td>234.26271</td>\n",
              "    </tr>\n",
              "  </tbody>\n",
              "</table>\n",
              "</div>\n",
              "    <div class=\"colab-df-buttons\">\n",
              "\n",
              "  <div class=\"colab-df-container\">\n",
              "    <button class=\"colab-df-convert\" onclick=\"convertToInteractive('df-69293610-60c2-42ab-abb6-1129c9eb657c')\"\n",
              "            title=\"Convert this dataframe to an interactive table.\"\n",
              "            style=\"display:none;\">\n",
              "\n",
              "  <svg xmlns=\"http://www.w3.org/2000/svg\" height=\"24px\" viewBox=\"0 -960 960 960\">\n",
              "    <path d=\"M120-120v-720h720v720H120Zm60-500h600v-160H180v160Zm220 220h160v-160H400v160Zm0 220h160v-160H400v160ZM180-400h160v-160H180v160Zm440 0h160v-160H620v160ZM180-180h160v-160H180v160Zm440 0h160v-160H620v160Z\"/>\n",
              "  </svg>\n",
              "    </button>\n",
              "\n",
              "  <style>\n",
              "    .colab-df-container {\n",
              "      display:flex;\n",
              "      gap: 12px;\n",
              "    }\n",
              "\n",
              "    .colab-df-convert {\n",
              "      background-color: #E8F0FE;\n",
              "      border: none;\n",
              "      border-radius: 50%;\n",
              "      cursor: pointer;\n",
              "      display: none;\n",
              "      fill: #1967D2;\n",
              "      height: 32px;\n",
              "      padding: 0 0 0 0;\n",
              "      width: 32px;\n",
              "    }\n",
              "\n",
              "    .colab-df-convert:hover {\n",
              "      background-color: #E2EBFA;\n",
              "      box-shadow: 0px 1px 2px rgba(60, 64, 67, 0.3), 0px 1px 3px 1px rgba(60, 64, 67, 0.15);\n",
              "      fill: #174EA6;\n",
              "    }\n",
              "\n",
              "    .colab-df-buttons div {\n",
              "      margin-bottom: 4px;\n",
              "    }\n",
              "\n",
              "    [theme=dark] .colab-df-convert {\n",
              "      background-color: #3B4455;\n",
              "      fill: #D2E3FC;\n",
              "    }\n",
              "\n",
              "    [theme=dark] .colab-df-convert:hover {\n",
              "      background-color: #434B5C;\n",
              "      box-shadow: 0px 1px 3px 1px rgba(0, 0, 0, 0.15);\n",
              "      filter: drop-shadow(0px 1px 2px rgba(0, 0, 0, 0.3));\n",
              "      fill: #FFFFFF;\n",
              "    }\n",
              "  </style>\n",
              "\n",
              "    <script>\n",
              "      const buttonEl =\n",
              "        document.querySelector('#df-69293610-60c2-42ab-abb6-1129c9eb657c button.colab-df-convert');\n",
              "      buttonEl.style.display =\n",
              "        google.colab.kernel.accessAllowed ? 'block' : 'none';\n",
              "\n",
              "      async function convertToInteractive(key) {\n",
              "        const element = document.querySelector('#df-69293610-60c2-42ab-abb6-1129c9eb657c');\n",
              "        const dataTable =\n",
              "          await google.colab.kernel.invokeFunction('convertToInteractive',\n",
              "                                                    [key], {});\n",
              "        if (!dataTable) return;\n",
              "\n",
              "        const docLinkHtml = 'Like what you see? Visit the ' +\n",
              "          '<a target=\"_blank\" href=https://colab.research.google.com/notebooks/data_table.ipynb>data table notebook</a>'\n",
              "          + ' to learn more about interactive tables.';\n",
              "        element.innerHTML = '';\n",
              "        dataTable['output_type'] = 'display_data';\n",
              "        await google.colab.output.renderOutput(dataTable, element);\n",
              "        const docLink = document.createElement('div');\n",
              "        docLink.innerHTML = docLinkHtml;\n",
              "        element.appendChild(docLink);\n",
              "      }\n",
              "    </script>\n",
              "  </div>\n",
              "\n",
              "\n",
              "<div id=\"df-3d8af569-cc4a-40a9-94cf-8f274aa8ccf5\">\n",
              "  <button class=\"colab-df-quickchart\" onclick=\"quickchart('df-3d8af569-cc4a-40a9-94cf-8f274aa8ccf5')\"\n",
              "            title=\"Suggest charts\"\n",
              "            style=\"display:none;\">\n",
              "\n",
              "<svg xmlns=\"http://www.w3.org/2000/svg\" height=\"24px\"viewBox=\"0 0 24 24\"\n",
              "     width=\"24px\">\n",
              "    <g>\n",
              "        <path d=\"M19 3H5c-1.1 0-2 .9-2 2v14c0 1.1.9 2 2 2h14c1.1 0 2-.9 2-2V5c0-1.1-.9-2-2-2zM9 17H7v-7h2v7zm4 0h-2V7h2v10zm4 0h-2v-4h2v4z\"/>\n",
              "    </g>\n",
              "</svg>\n",
              "  </button>\n",
              "\n",
              "<style>\n",
              "  .colab-df-quickchart {\n",
              "      --bg-color: #E8F0FE;\n",
              "      --fill-color: #1967D2;\n",
              "      --hover-bg-color: #E2EBFA;\n",
              "      --hover-fill-color: #174EA6;\n",
              "      --disabled-fill-color: #AAA;\n",
              "      --disabled-bg-color: #DDD;\n",
              "  }\n",
              "\n",
              "  [theme=dark] .colab-df-quickchart {\n",
              "      --bg-color: #3B4455;\n",
              "      --fill-color: #D2E3FC;\n",
              "      --hover-bg-color: #434B5C;\n",
              "      --hover-fill-color: #FFFFFF;\n",
              "      --disabled-bg-color: #3B4455;\n",
              "      --disabled-fill-color: #666;\n",
              "  }\n",
              "\n",
              "  .colab-df-quickchart {\n",
              "    background-color: var(--bg-color);\n",
              "    border: none;\n",
              "    border-radius: 50%;\n",
              "    cursor: pointer;\n",
              "    display: none;\n",
              "    fill: var(--fill-color);\n",
              "    height: 32px;\n",
              "    padding: 0;\n",
              "    width: 32px;\n",
              "  }\n",
              "\n",
              "  .colab-df-quickchart:hover {\n",
              "    background-color: var(--hover-bg-color);\n",
              "    box-shadow: 0 1px 2px rgba(60, 64, 67, 0.3), 0 1px 3px 1px rgba(60, 64, 67, 0.15);\n",
              "    fill: var(--button-hover-fill-color);\n",
              "  }\n",
              "\n",
              "  .colab-df-quickchart-complete:disabled,\n",
              "  .colab-df-quickchart-complete:disabled:hover {\n",
              "    background-color: var(--disabled-bg-color);\n",
              "    fill: var(--disabled-fill-color);\n",
              "    box-shadow: none;\n",
              "  }\n",
              "\n",
              "  .colab-df-spinner {\n",
              "    border: 2px solid var(--fill-color);\n",
              "    border-color: transparent;\n",
              "    border-bottom-color: var(--fill-color);\n",
              "    animation:\n",
              "      spin 1s steps(1) infinite;\n",
              "  }\n",
              "\n",
              "  @keyframes spin {\n",
              "    0% {\n",
              "      border-color: transparent;\n",
              "      border-bottom-color: var(--fill-color);\n",
              "      border-left-color: var(--fill-color);\n",
              "    }\n",
              "    20% {\n",
              "      border-color: transparent;\n",
              "      border-left-color: var(--fill-color);\n",
              "      border-top-color: var(--fill-color);\n",
              "    }\n",
              "    30% {\n",
              "      border-color: transparent;\n",
              "      border-left-color: var(--fill-color);\n",
              "      border-top-color: var(--fill-color);\n",
              "      border-right-color: var(--fill-color);\n",
              "    }\n",
              "    40% {\n",
              "      border-color: transparent;\n",
              "      border-right-color: var(--fill-color);\n",
              "      border-top-color: var(--fill-color);\n",
              "    }\n",
              "    60% {\n",
              "      border-color: transparent;\n",
              "      border-right-color: var(--fill-color);\n",
              "    }\n",
              "    80% {\n",
              "      border-color: transparent;\n",
              "      border-right-color: var(--fill-color);\n",
              "      border-bottom-color: var(--fill-color);\n",
              "    }\n",
              "    90% {\n",
              "      border-color: transparent;\n",
              "      border-bottom-color: var(--fill-color);\n",
              "    }\n",
              "  }\n",
              "</style>\n",
              "\n",
              "  <script>\n",
              "    async function quickchart(key) {\n",
              "      const quickchartButtonEl =\n",
              "        document.querySelector('#' + key + ' button');\n",
              "      quickchartButtonEl.disabled = true;  // To prevent multiple clicks.\n",
              "      quickchartButtonEl.classList.add('colab-df-spinner');\n",
              "      try {\n",
              "        const charts = await google.colab.kernel.invokeFunction(\n",
              "            'suggestCharts', [key], {});\n",
              "      } catch (error) {\n",
              "        console.error('Error during call to suggestCharts:', error);\n",
              "      }\n",
              "      quickchartButtonEl.classList.remove('colab-df-spinner');\n",
              "      quickchartButtonEl.classList.add('colab-df-quickchart-complete');\n",
              "    }\n",
              "    (() => {\n",
              "      let quickchartButtonEl =\n",
              "        document.querySelector('#df-3d8af569-cc4a-40a9-94cf-8f274aa8ccf5 button');\n",
              "      quickchartButtonEl.style.display =\n",
              "        google.colab.kernel.accessAllowed ? 'block' : 'none';\n",
              "    })();\n",
              "  </script>\n",
              "</div>\n",
              "    </div>\n",
              "  </div>\n"
            ],
            "application/vnd.google.colaboratory.intrinsic+json": {
              "type": "dataframe",
              "summary": "{\n  \"name\": \"food_orders\",\n  \"rows\": 8,\n  \"fields\": [\n    {\n      \"column\": \"Order ID\",\n      \"properties\": {\n        \"dtype\": \"number\",\n        \"std\": 360.1000917722167,\n        \"min\": 1.0,\n        \"max\": 1000.0,\n        \"num_unique_values\": 6,\n        \"samples\": [\n          1000.0,\n          500.5,\n          288.8194360957494\n        ],\n        \"semantic_type\": \"\",\n        \"description\": \"\"\n      }\n    },\n    {\n      \"column\": \"Order Date and Time\",\n      \"properties\": {\n        \"dtype\": \"date\",\n        \"min\": \"1970-01-01 00:00:00.000001\",\n        \"max\": \"2024-02-07 23:56:12\",\n        \"num_unique_values\": 7,\n        \"samples\": [\n          \"1000\",\n          \"2024-01-20 11:03:07.648000\",\n          \"2024-01-30 03:47:34.249999872\"\n        ],\n        \"semantic_type\": \"\",\n        \"description\": \"\"\n      }\n    },\n    {\n      \"column\": \"Delivery Date and Time\",\n      \"properties\": {\n        \"dtype\": \"date\",\n        \"min\": \"1970-01-01 00:00:00.000001\",\n        \"max\": \"2024-02-08 01:45:12\",\n        \"num_unique_values\": 7,\n        \"samples\": [\n          \"1000\",\n          \"2024-01-20 12:16:42.148000256\",\n          \"2024-01-30 05:09:34.249999872\"\n        ],\n        \"semantic_type\": \"\",\n        \"description\": \"\"\n      }\n    },\n    {\n      \"column\": \"Order Value\",\n      \"properties\": {\n        \"dtype\": \"number\",\n        \"std\": 587.822328592323,\n        \"min\": 104.0,\n        \"max\": 1995.0,\n        \"num_unique_values\": 8,\n        \"samples\": [\n          1053.969,\n          1494.0,\n          1000.0\n        ],\n        \"semantic_type\": \"\",\n        \"description\": \"\"\n      }\n    },\n    {\n      \"column\": \"Delivery Fee\",\n      \"properties\": {\n        \"dtype\": \"number\",\n        \"std\": 344.5094247121322,\n        \"min\": 0.0,\n        \"max\": 1000.0,\n        \"num_unique_values\": 8,\n        \"samples\": [\n          28.62,\n          40.0,\n          1000.0\n        ],\n        \"semantic_type\": \"\",\n        \"description\": \"\"\n      }\n    },\n    {\n      \"column\": \"Commission Fee\",\n      \"properties\": {\n        \"dtype\": \"number\",\n        \"std\": 317.6097135709636,\n        \"min\": 43.06405011622121,\n        \"max\": 1000.0,\n        \"num_unique_values\": 8,\n        \"samples\": [\n          126.99,\n          164.0,\n          1000.0\n        ],\n        \"semantic_type\": \"\",\n        \"description\": \"\"\n      }\n    },\n    {\n      \"column\": \"Payment Processing Fee\",\n      \"properties\": {\n        \"dtype\": \"number\",\n        \"std\": 344.1507708309926,\n        \"min\": 10.0,\n        \"max\": 1000.0,\n        \"num_unique_values\": 8,\n        \"samples\": [\n          29.832,\n          40.0,\n          1000.0\n        ],\n        \"semantic_type\": \"\",\n        \"description\": \"\"\n      }\n    },\n    {\n      \"column\": \"Refunds/Chargebacks\",\n      \"properties\": {\n        \"dtype\": \"number\",\n        \"std\": 343.1220867608838,\n        \"min\": 0.0,\n        \"max\": 1000.0,\n        \"num_unique_values\": 6,\n        \"samples\": [\n          1000.0,\n          28.3,\n          49.61422751158756\n        ],\n        \"semantic_type\": \"\",\n        \"description\": \"\"\n      }\n    },\n    {\n      \"column\": \"Discount Percentage\",\n      \"properties\": {\n        \"dtype\": \"number\",\n        \"std\": 347.40341990236124,\n        \"min\": 5.0,\n        \"max\": 1000.0,\n        \"num_unique_values\": 7,\n        \"samples\": [\n          1000.0,\n          19.76,\n          50.0\n        ],\n        \"semantic_type\": \"\",\n        \"description\": \"\"\n      }\n    },\n    {\n      \"column\": \"Discount Amount\",\n      \"properties\": {\n        \"dtype\": \"number\",\n        \"std\": 403.95685568774405,\n        \"min\": 5.6,\n        \"max\": 1000.0,\n        \"num_unique_values\": 8,\n        \"samples\": [\n          210.26734999999996,\n          234.3,\n          1000.0\n        ],\n        \"semantic_type\": \"\",\n        \"description\": \"\"\n      }\n    }\n  ]\n}"
            }
          },
          "metadata": {},
          "execution_count": 32
        }
      ]
    },
    {
      "cell_type": "markdown",
      "source": [
        "Considering the following aspects for cost analysis\n",
        "\n",
        "**Delivery Fee:** The fee charged for delivering the order.\n",
        "\n",
        "**Payment Processing Fee:** The fee for processing the payment.\n",
        "\n",
        "**Discount Amount:** The discount provided on the order.\n",
        "\n",
        "In order to comprehend the overall cost structure, first compute the total cost of the platform for each order.\n",
        "\n",
        "The Commission Fee is the primary source of income for the site. The net profit will be determined by deducting the commission fee revenue from the entire costs, including discounts.\n",
        "\n",
        "\n",
        "**Below is the cost and profitability analysis:**"
      ],
      "metadata": {
        "id": "odz5xrNGBAGf"
      }
    },
    {
      "cell_type": "code",
      "source": [
        "# calculate total costs and revenue per order\n",
        "food_orders['Total Costs'] = food_orders['Delivery Fee'] + food_orders['Payment Processing Fee'] + food_orders['Discount Amount']\n",
        "food_orders['Revenue'] = food_orders['Commission Fee']\n",
        "food_orders['Profit'] = food_orders['Revenue'] - food_orders['Total Costs']\n",
        "\n",
        "# aggregate data to get overall metrics\n",
        "total_orders = food_orders.shape[0]\n",
        "total_revenue = food_orders['Revenue'].sum()\n",
        "total_costs = food_orders['Total Costs'].sum()\n",
        "total_profit = food_orders['Profit'].sum()\n",
        "\n",
        "overall_metrics = {\n",
        "    \"Total Orders\": total_orders,\n",
        "    \"Total Revenue\": total_revenue,\n",
        "    \"Total Costs\": total_costs,\n",
        "    \"Total Profit\": total_profit\n",
        "}\n",
        "\n",
        "print(overall_metrics)"
      ],
      "metadata": {
        "colab": {
          "base_uri": "https://localhost:8080/"
        },
        "id": "5JwfX987q4uE",
        "outputId": "7654b33b-eda7-45e1-9dd4-a8cff44df4be"
      },
      "execution_count": 33,
      "outputs": [
        {
          "output_type": "stream",
          "name": "stdout",
          "text": [
            "{'Total Orders': 1000, 'Total Revenue': 126990, 'Total Costs': 268719.35, 'Total Profit': -141729.34999999998}\n"
          ]
        }
      ]
    },
    {
      "cell_type": "markdown",
      "source": [
        "Based on the analysis, the overall metrics for the food delivery operations looks like:\n",
        "\n",
        "Total Orders: 1,000\n",
        "Total Revenue (from Commission Fees): 126,990 INR\n",
        "Total Costs: 232,709.85 INR (including delivery fees, payment processing fees, and discounts)\n",
        "Total Profit: -105,719.85 INR\n",
        "\n",
        "According to the analysis, there is a net loss because the overall expenses incurred by the food delivery business are greater than the total amount of money received in commission fees. It implies that the commission rates, shipping costs, and discount plans in place may not be profitable in the long run.\n",
        "\n",
        "In order to comprehend how expenses, income, and profit are distributed more clearly, let's plot histogram, pie chart and bar chart.\n"
      ],
      "metadata": {
        "id": "58adZQkoCAPL"
      }
    },
    {
      "cell_type": "code",
      "source": [
        "# histogram of profits per order\n",
        "plt.figure(figsize=(10, 6))\n",
        "plt.hist(food_orders['Profit'], bins=50, color='skyblue', edgecolor='black')\n",
        "plt.title('Profit Distribution per Order in Food Delivery')\n",
        "plt.xlabel('Profit')\n",
        "plt.ylabel('Number of Orders')\n",
        "plt.axvline(food_orders['Profit'].mean(), color='red', linestyle='dashed', linewidth=1)\n",
        "plt.show()"
      ],
      "metadata": {
        "colab": {
          "base_uri": "https://localhost:8080/",
          "height": 564
        },
        "id": "PfFZKsGjrPqV",
        "outputId": "05f1c68c-c6bd-4bed-940f-0ba15235bc64"
      },
      "execution_count": 34,
      "outputs": [
        {
          "output_type": "display_data",
          "data": {
            "text/plain": [
              "<Figure size 1000x600 with 1 Axes>"
            ],
            "image/png": "[encoded data removed]"
          },
          "metadata": {}
        }
      ]
    },
    {
      "cell_type": "markdown",
      "source": [
        "A significant portion of orders result in a loss (earnings below 0), as indicated by the histogram, which displays a broad distribution of profit per order. The average profit is shown by the red dashed line, which is negative, emphasizing the overall loss-making scenario.\n",
        "\n"
      ],
      "metadata": {
        "id": "d797KuRUCrP7"
      }
    },
    {
      "cell_type": "code",
      "source": [
        "# pie chart for the proportion of total costs\n",
        "costs_breakdown = food_orders[['Delivery Fee', 'Payment Processing Fee', 'Discount Amount']].sum()\n",
        "plt.figure(figsize=(7, 7))\n",
        "plt.pie(costs_breakdown, labels=costs_breakdown.index, autopct='%1.1f%%', startangle=140, colors=['tomato', 'gold', 'lightblue'])\n",
        "plt.title('Proportion of Total Costs in Food Delivery')\n",
        "plt.show()"
      ],
      "metadata": {
        "colab": {
          "base_uri": "https://localhost:8080/",
          "height": 598
        },
        "id": "KVwgvoFNrgPQ",
        "outputId": "476a5500-6567-4f47-a788-044458a30357"
      },
      "execution_count": 35,
      "outputs": [
        {
          "output_type": "display_data",
          "data": {
            "text/plain": [
              "<Figure size 700x700 with 1 Axes>"
            ],
            "image/png": "[encoded data removed]"
          },
          "metadata": {}
        }
      ]
    },
    {
      "cell_type": "markdown",
      "source": [
        "The breakdown of total expenses into delivery fees, payment processing fees, and discount amounts is shown in the pie chart. Given that discounts account for a sizable amount of expenses, it is possible that promotional tactics have a substantial influence on total profitability.\n"
      ],
      "metadata": {
        "id": "f2YblNYbCwZv"
      }
    },
    {
      "cell_type": "code",
      "source": [
        "# bar chart for total revenue, costs, and profit\n",
        "totals = ['Total Revenue', 'Total Costs', 'Total Profit']\n",
        "values = [total_revenue, total_costs, total_profit]\n",
        "\n",
        "plt.figure(figsize=(8, 6))\n",
        "plt.bar(totals, values, color=['green', 'red', 'blue'])\n",
        "plt.title('Total Revenue, Costs, and Profit')\n",
        "plt.ylabel('Amount (INR)')\n",
        "plt.show()"
      ],
      "metadata": {
        "colab": {
          "base_uri": "https://localhost:8080/",
          "height": 545
        },
        "id": "cHldQt5Fr5Hw",
        "outputId": "fd9e4a43-26e5-49a8-d867-e541278c76d0"
      },
      "execution_count": 36,
      "outputs": [
        {
          "output_type": "display_data",
          "data": {
            "text/plain": [
              "<Figure size 800x600 with 1 Axes>"
            ],
            "image/png": "[encoded data removed]"
          },
          "metadata": {}
        }
      ]
    },
    {
      "cell_type": "markdown",
      "source": [
        "The bar chart compares total revenue, total costs, and total profit. It visually represents the gap between revenue and costs, clearly showing that the costs surpass the revenue, leading to a total loss."
      ],
      "metadata": {
        "id": "LLZAW0tbCz36"
      }
    },
    {
      "cell_type": "markdown",
      "source": [
        "We have inferred from the data thus far that the food order discounts are causing enormous losses. Need to come up with a fresh approach to profitability.\n",
        "\n",
        "Need to determine the ideal price point for commissions and discounts. We can do a more thorough analysis of the traits of profitable orders to determine the ideal commission and discount %. In particular, we must search for:\n",
        "\n",
        "1. A new average commission percentage based on profitable orders.\n",
        "2. A new average discount percentage for profitable orders, that could serve as a guideline for what level of discount still allows for profitability."
      ],
      "metadata": {
        "id": "a0bSI4MFDDkk"
      }
    },
    {
      "cell_type": "code",
      "source": [
        "# filter the dataset for profitable orders\n",
        "profitable_orders = food_orders[food_orders['Profit'] > 0]\n",
        "\n",
        "# calculate the average commission percentage for profitable orders\n",
        "profitable_orders['Commission Percentage'] = (profitable_orders['Commission Fee'] / profitable_orders['Order Value']) * 100\n",
        "\n",
        "# calculate the average discount percentage for profitable orders\n",
        "profitable_orders['Effective Discount Percentage'] = (profitable_orders['Discount Amount'] / profitable_orders['Order Value']) * 100\n",
        "\n",
        "# calculate the new averages\n",
        "new_avg_commission = profitable_orders['Commission Percentage'].mean()\n",
        "new_avg_discount = profitable_orders['Effective Discount Percentage'].mean()\n",
        "\n",
        "print(new_avg_commission, new_avg_discount)"
      ],
      "metadata": {
        "colab": {
          "base_uri": "https://localhost:8080/"
        },
        "id": "7LXf9qZhsPLf",
        "outputId": "dae4824a-6573-4e23-f1bd-967074a6c1fc"
      },
      "execution_count": 37,
      "outputs": [
        {
          "output_type": "stream",
          "name": "stdout",
          "text": [
            "38.209986394265826 10.06872852233677\n"
          ]
        },
        {
          "output_type": "stream",
          "name": "stderr",
          "text": [
            "<ipython-input-37-cfdb9f9bad22>:5: SettingWithCopyWarning: \n",
            "A value is trying to be set on a copy of a slice from a DataFrame.\n",
            "Try using .loc[row_indexer,col_indexer] = value instead\n",
            "\n",
            "See the caveats in the documentation: https://pandas.pydata.org/pandas-docs/stable/user_guide/indexing.html#returning-a-view-versus-a-copy\n",
            "  profitable_orders['Commission Percentage'] = (profitable_orders['Commission Fee'] / profitable_orders['Order Value']) * 100\n",
            "<ipython-input-37-cfdb9f9bad22>:8: SettingWithCopyWarning: \n",
            "A value is trying to be set on a copy of a slice from a DataFrame.\n",
            "Try using .loc[row_indexer,col_indexer] = value instead\n",
            "\n",
            "See the caveats in the documentation: https://pandas.pydata.org/pandas-docs/stable/user_guide/indexing.html#returning-a-view-versus-a-copy\n",
            "  profitable_orders['Effective Discount Percentage'] = (profitable_orders['Discount Amount'] / profitable_orders['Order Value']) * 100\n"
          ]
        }
      ]
    },
    {
      "cell_type": "markdown",
      "source": [
        "New Average Commission Percentage: 38.20%\n",
        "New Average Discount Percentage: 10.06%\n",
        "\n",
        "Based on this analysis, a strategy that aims for the recommended discounts (10%) and commissions (40%) to see the potential impact on profitability.\n",
        "\n",
        "Visualize a comparison of profitability using actual versus simulated discounts and commissions across all orders."
      ],
      "metadata": {
        "id": "Y7sh9oypEAx5"
      }
    },
    {
      "cell_type": "code",
      "source": [
        "# simulate profitability with recommended discounts and commissions\n",
        "recommended_commission = 40.0  # 40%\n",
        "recommended_discount = 10.0    # 10%\n",
        "\n",
        "# calculate the simulated commission fee and discount amount using recommended percentages\n",
        "food_orders['Simulated Commission Fee'] = food_orders['Order Value'] * (recommended_commission / 100)\n",
        "food_orders['Simulated Discount Amount'] = food_orders['Order Value'] * (recommended_discount / 100)\n",
        "\n",
        "# recalculate total costs and profit with simulated values\n",
        "food_orders['Simulated Total Costs'] = (food_orders['Delivery Fee'] +\n",
        "                                        food_orders['Payment Processing Fee'] +\n",
        "                                        food_orders['Simulated Discount Amount'])\n",
        "\n",
        "food_orders['Simulated Profit'] = (food_orders['Simulated Commission Fee'] -\n",
        "                                   food_orders['Simulated Total Costs'])"
      ],
      "metadata": {
        "id": "_Os75cRw2Y72"
      },
      "execution_count": 38,
      "outputs": []
    },
    {
      "cell_type": "code",
      "source": [
        "# visualizing the comparison\n",
        "import seaborn as sns\n",
        "\n",
        "plt.figure(figsize=(14, 7))\n",
        "\n",
        "# actual profitability\n",
        "sns.kdeplot(food_orders['Profit'], label='Actual Profitability', fill=True, alpha=0.5, linewidth=2)\n",
        "\n",
        "# simulated profitability\n",
        "sns.kdeplot(food_orders['Simulated Profit'], label='Estimated Profitability with Recommended Rates', fill=True, alpha=0.5, linewidth=2)\n",
        "\n",
        "plt.title('Comparison of Profitability in Food Delivery: Actual vs Recommended Discounts and Commissions')\n",
        "plt.xlabel('Profit')\n",
        "plt.ylabel('Density')\n",
        "plt.legend(loc='upper left')\n",
        "plt.show()"
      ],
      "metadata": {
        "colab": {
          "base_uri": "https://localhost:8080/",
          "height": 627
        },
        "id": "ERljVN-D461q",
        "outputId": "d054f5b1-5939-4c7c-a648-f82920dd42d1"
      },
      "execution_count": 39,
      "outputs": [
        {
          "output_type": "display_data",
          "data": {
            "text/plain": [
              "<Figure size 1400x700 with 1 Axes>"
            ],
            "image/png": "[encoded data removed]"
          },
          "metadata": {}
        }
      ]
    },
    {
      "cell_type": "markdown",
      "source": [
        "The actual profitability distribution is mixed, with a large percentage of orders showing losses (profit < 0) and a wide range of order profit levels. The modeled situation points to a change in favor of increased profitability per order. The distribution is more heavily weighted in favor of positive profit, suggesting that the suggested changes may result in a larger percentage of orders that turn a profit.\n"
      ],
      "metadata": {
        "id": "CyIzzceWEx2M"
      }
    }
  ]
}